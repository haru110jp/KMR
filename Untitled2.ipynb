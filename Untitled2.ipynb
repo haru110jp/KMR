{
 "metadata": {
  "name": "",
  "signature": "sha256:960d25edc2440fa6231b4829cb4ae4bcb5abef8e4eba2d7c769489d74afa09d3"
 },
 "nbformat": 3,
 "nbformat_minor": 0,
 "worksheets": [
  {
   "cells": [
    {
     "cell_type": "code",
     "collapsed": false,
     "input": [
      "from __future__ import division\n",
      "import numpy as np\n",
      "from quantecon.mc_tools import mc_compute_stationary\n",
      "\n",
      "\n",
      "\n",
      "def set_tran_matrix(N=6,p=1/3,epsilon=0.01):  #setting up the transition matrix A\n",
      "\t\"\"\"\n",
      "\tN :the number of players\n",
      "\tp : the turning point as to which equilibrium is prefered\n",
      "\tepsilon : tthe possibility that a man becomes \"irrational\"\n",
      "\n",
      "\tif the ratio of players playing 0 exceeds p, we end up the equilibrium(0,0) in an unperturbed game\n",
      "\tI think it's better if I can compute the value of p in this program.For now,we assume it's exogenous.\n",
      "\t\"\"\"\n",
      "\tA = np.zeros((N+1,N+1))\n",
      "\tfor n in range(1, N):\n",
      "\t\tA[n, n-1] = \\\n",
      "\t    \t(n/N) * (epsilon * (1/2) +\n",
      "                     (1 - epsilon) * (((n)/(N) < p) + ((n)/(N) == p) * (1/2))\n",
      "                     )\n",
      "\t\tA[n, n+1] = \\\n",
      "            ((N-n)/N) * (epsilon * (1/2) +\n",
      "                         (1 - epsilon) * ((n/(N) > p) + (n/(N) == p) * (1/2))\n",
      "                         )\n",
      "\t\tA[n,n] = 1- A[n,n-1] - A[n,n+1]\n",
      "\n",
      "\tA[0,0] = 1 - epsilon/2\n",
      "\tA[0,1] = epsilon/2\n",
      "\n",
      "\tA[N,N-1] = epsilon/2\n",
      "\tA[N,N] = 1 - epsilon/2\n",
      "\t\n",
      "\treturn A"
     ],
     "language": "python",
     "metadata": {},
     "outputs": [],
     "prompt_number": 1
    },
    {
     "cell_type": "code",
     "collapsed": false,
     "input": [
      "P=set_tran_matrix()"
     ],
     "language": "python",
     "metadata": {},
     "outputs": [],
     "prompt_number": 2
    },
    {
     "cell_type": "code",
     "collapsed": false,
     "input": [
      "mc_compute_stationary(P)"
     ],
     "language": "python",
     "metadata": {},
     "outputs": [
      {
       "metadata": {},
       "output_type": "pyout",
       "prompt_number": 3,
       "text": [
        "array([  2.45031189e-05,   7.38787504e-07,   1.84696875e-08,\n",
        "         2.46262500e-06,   3.67546782e-04,   2.92567238e-02,\n",
        "         9.70348006e-01])"
       ]
      }
     ],
     "prompt_number": 3
    },
    {
     "cell_type": "code",
     "collapsed": false,
     "input": [
      "P=set_tran_matrix(N=25)"
     ],
     "language": "python",
     "metadata": {},
     "outputs": [],
     "prompt_number": 4
    },
    {
     "cell_type": "code",
     "collapsed": false,
     "input": [
      "mc_compute_stationary(P)"
     ],
     "language": "python",
     "metadata": {},
     "outputs": [
      {
       "metadata": {},
       "output_type": "pyout",
       "prompt_number": 5,
       "text": [
        "array([[  2.28974045e-01,  -6.60219850e-26],\n",
        "       [  2.87655835e-02,  -8.29420748e-27],\n",
        "       [  1.73460805e-03,  -5.00146613e-28],\n",
        "       [  6.68274458e-05,  -1.92641995e-29],\n",
        "       [  1.84698971e-06,  -5.29103886e-31],\n",
        "       [  3.89816906e-08,  -8.50800510e-33],\n",
        "       [  6.52958230e-10,   2.07333066e-33],\n",
        "       [  8.90489368e-12,   1.92757373e-33],\n",
        "       [  9.96225258e-14,   1.68367666e-33],\n",
        "       [  5.32184164e-16,   2.97148825e-31],\n",
        "       [  5.68020111e-16,   9.48767575e-29],\n",
        "       [  6.09076129e-16,   2.57463425e-26],\n",
        "       [  6.55492459e-16,   5.97744273e-24],\n",
        "       [  7.05784387e-16,   1.18951110e-21],\n",
        "       [  7.70086588e-16,   2.02896608e-19],\n",
        "       [  8.72133584e-16,   2.96093783e-17],\n",
        "       [  3.66805592e-15,   3.68266643e-15],\n",
        "       [  2.88337478e-13,   3.87979740e-13],\n",
        "       [  2.54097246e-11,   3.43146526e-11],\n",
        "       [  1.86284758e-09,   2.51580584e-09],\n",
        "       [  1.11211918e-07,   1.50193609e-07],\n",
        "       [  5.26932652e-06,   7.11631623e-06],\n",
        "       [  1.90653814e-04,   2.57481260e-04],\n",
        "       [  4.94870987e-03,   6.68331792e-03],\n",
        "       [  8.20661053e-02,   1.10831689e-01],\n",
        "       [  6.53246198e-01,   8.82220243e-01]])"
       ]
      }
     ],
     "prompt_number": 5
    },
    {
     "cell_type": "code",
     "collapsed": false,
     "input": [
      "P=set_tran_matrix(N=26)"
     ],
     "language": "python",
     "metadata": {},
     "outputs": [],
     "prompt_number": 6
    },
    {
     "cell_type": "code",
     "collapsed": false,
     "input": [
      "mc_compute_stationary(P)"
     ],
     "language": "python",
     "metadata": {},
     "outputs": [
      {
       "output_type": "stream",
       "stream": "stderr",
       "text": [
        "C:\\Users\\Atsushi\\Anaconda\\lib\\site-packages\\quantecon\\mc_tools.py:142: UserWarning: Elements of your invariant distribution were negative; Re-trying with additional precision\n",
        "  \"Re-trying with additional precision\")\n"
       ]
      },
      {
       "ename": "KeyboardInterrupt",
       "evalue": "",
       "output_type": "pyerr",
       "traceback": [
        "\u001b[1;31m---------------------------------------------------------------------------\u001b[0m\n\u001b[1;31mKeyboardInterrupt\u001b[0m                         Traceback (most recent call last)",
        "\u001b[1;32m<ipython-input-7-86586f448331>\u001b[0m in \u001b[0;36m<module>\u001b[1;34m()\u001b[0m\n\u001b[1;32m----> 1\u001b[1;33m \u001b[0mmc_compute_stationary\u001b[0m\u001b[1;33m(\u001b[0m\u001b[0mP\u001b[0m\u001b[1;33m)\u001b[0m\u001b[1;33m\u001b[0m\u001b[0m\n\u001b[0m",
        "\u001b[1;32mC:\\Users\\Atsushi\\Anaconda\\lib\\site-packages\\quantecon\\mc_tools.pyc\u001b[0m in \u001b[0;36mmc_compute_stationary\u001b[1;34m(P, precision, tol)\u001b[0m\n\u001b[0;32m    143\u001b[0m \u001b[1;33m\u001b[0m\u001b[0m\n\u001b[0;32m    144\u001b[0m         \u001b[1;32mif\u001b[0m \u001b[0mprecision\u001b[0m \u001b[1;32mis\u001b[0m \u001b[0mNone\u001b[0m\u001b[1;33m:\u001b[0m\u001b[1;33m\u001b[0m\u001b[0m\n\u001b[1;32m--> 145\u001b[1;33m             \u001b[0mstationary_dists\u001b[0m \u001b[1;33m=\u001b[0m \u001b[0mmc_compute_stationary\u001b[0m\u001b[1;33m(\u001b[0m\u001b[0mP\u001b[0m\u001b[1;33m,\u001b[0m \u001b[0mprecision\u001b[0m\u001b[1;33m=\u001b[0m\u001b[1;36m18\u001b[0m\u001b[1;33m,\u001b[0m \u001b[0mtol\u001b[0m\u001b[1;33m=\u001b[0m\u001b[0mtol\u001b[0m\u001b[1;33m)\u001b[0m\u001b[1;33m\u001b[0m\u001b[0m\n\u001b[0m\u001b[0;32m    146\u001b[0m \u001b[1;33m\u001b[0m\u001b[0m\n\u001b[0;32m    147\u001b[0m         \u001b[1;32melif\u001b[0m \u001b[0mprecision\u001b[0m \u001b[1;32mis\u001b[0m \u001b[1;32mnot\u001b[0m \u001b[0mNone\u001b[0m\u001b[1;33m:\u001b[0m\u001b[1;33m\u001b[0m\u001b[0m\n",
        "\u001b[1;32mC:\\Users\\Atsushi\\Anaconda\\lib\\site-packages\\quantecon\\mc_tools.pyc\u001b[0m in \u001b[0;36mmc_compute_stationary\u001b[1;34m(P, precision, tol)\u001b[0m\n\u001b[0;32m    127\u001b[0m \u001b[1;33m\u001b[0m\u001b[0m\n\u001b[0;32m    128\u001b[0m         \u001b[1;32mwith\u001b[0m \u001b[0mmp\u001b[0m\u001b[1;33m.\u001b[0m\u001b[0mworkdps\u001b[0m\u001b[1;33m(\u001b[0m\u001b[0mprecision\u001b[0m\u001b[1;33m)\u001b[0m\u001b[1;33m:\u001b[0m\u001b[1;33m\u001b[0m\u001b[0m\n\u001b[1;32m--> 129\u001b[1;33m             \u001b[0meigvals\u001b[0m\u001b[1;33m,\u001b[0m \u001b[0meigvecs\u001b[0m \u001b[1;33m=\u001b[0m \u001b[0mmp\u001b[0m\u001b[1;33m.\u001b[0m\u001b[0meig\u001b[0m\u001b[1;33m(\u001b[0m\u001b[0mmp\u001b[0m\u001b[1;33m.\u001b[0m\u001b[0mmatrix\u001b[0m\u001b[1;33m(\u001b[0m\u001b[0mP\u001b[0m\u001b[1;33m)\u001b[0m\u001b[1;33m,\u001b[0m \u001b[0mleft\u001b[0m\u001b[1;33m=\u001b[0m\u001b[0mTrue\u001b[0m\u001b[1;33m,\u001b[0m \u001b[0mright\u001b[0m\u001b[1;33m=\u001b[0m\u001b[0mFalse\u001b[0m\u001b[1;33m)\u001b[0m\u001b[1;33m\u001b[0m\u001b[0m\n\u001b[0m\u001b[0;32m    130\u001b[0m \u001b[1;33m\u001b[0m\u001b[0m\n\u001b[0;32m    131\u001b[0m             \u001b[1;32mfor\u001b[0m \u001b[0mind\u001b[0m\u001b[1;33m,\u001b[0m \u001b[0mel\u001b[0m \u001b[1;32min\u001b[0m \u001b[0menumerate\u001b[0m\u001b[1;33m(\u001b[0m\u001b[0meigvals\u001b[0m\u001b[1;33m)\u001b[0m\u001b[1;33m:\u001b[0m\u001b[1;33m\u001b[0m\u001b[0m\n",
        "\u001b[1;32mC:\\Users\\Atsushi\\Anaconda\\lib\\site-packages\\sympy\\mpmath\\matrices\\eigen.pyc\u001b[0m in \u001b[0;36meig\u001b[1;34m(ctx, A, left, right, overwrite_a)\u001b[0m\n\u001b[0;32m    753\u001b[0m             \u001b[0mA\u001b[0m\u001b[1;33m[\u001b[0m\u001b[0my\u001b[0m\u001b[1;33m,\u001b[0m\u001b[0mx\u001b[0m\u001b[1;33m]\u001b[0m \u001b[1;33m=\u001b[0m \u001b[1;36m0\u001b[0m\u001b[1;33m\u001b[0m\u001b[0m\n\u001b[0;32m    754\u001b[0m \u001b[1;33m\u001b[0m\u001b[0m\n\u001b[1;32m--> 755\u001b[1;33m     \u001b[0mhessenberg_qr\u001b[0m\u001b[1;33m(\u001b[0m\u001b[0mctx\u001b[0m\u001b[1;33m,\u001b[0m \u001b[0mA\u001b[0m\u001b[1;33m,\u001b[0m \u001b[0mQ\u001b[0m\u001b[1;33m)\u001b[0m\u001b[1;33m\u001b[0m\u001b[0m\n\u001b[0m\u001b[0;32m    756\u001b[0m \u001b[1;33m\u001b[0m\u001b[0m\n\u001b[0;32m    757\u001b[0m     \u001b[0mE\u001b[0m \u001b[1;33m=\u001b[0m \u001b[1;33m[\u001b[0m\u001b[1;36m0\u001b[0m \u001b[1;32mfor\u001b[0m \u001b[0mi\u001b[0m \u001b[1;32min\u001b[0m \u001b[0mxrange\u001b[0m\u001b[1;33m(\u001b[0m\u001b[0mn\u001b[0m\u001b[1;33m)\u001b[0m\u001b[1;33m]\u001b[0m\u001b[1;33m\u001b[0m\u001b[0m\n",
        "\u001b[1;32mC:\\Users\\Atsushi\\Anaconda\\lib\\site-packages\\sympy\\mpmath\\matrices\\eigen.pyc\u001b[0m in \u001b[0;36mhessenberg_qr\u001b[1;34m(ctx, A, Q)\u001b[0m\n\u001b[0;32m    476\u001b[0m             \u001b[0mtotalits\u001b[0m \u001b[1;33m+=\u001b[0m \u001b[1;36m1\u001b[0m\u001b[1;33m\u001b[0m\u001b[0m\n\u001b[0;32m    477\u001b[0m \u001b[1;33m\u001b[0m\u001b[0m\n\u001b[1;32m--> 478\u001b[1;33m             \u001b[0mqr_step\u001b[0m\u001b[1;33m(\u001b[0m\u001b[0mctx\u001b[0m\u001b[1;33m,\u001b[0m \u001b[0mn0\u001b[0m\u001b[1;33m,\u001b[0m \u001b[0mn1\u001b[0m\u001b[1;33m,\u001b[0m \u001b[0mA\u001b[0m\u001b[1;33m,\u001b[0m \u001b[0mQ\u001b[0m\u001b[1;33m,\u001b[0m \u001b[0mshift\u001b[0m\u001b[1;33m)\u001b[0m\u001b[1;33m\u001b[0m\u001b[0m\n\u001b[0m\u001b[0;32m    479\u001b[0m \u001b[1;33m\u001b[0m\u001b[0m\n\u001b[0;32m    480\u001b[0m             \u001b[1;32mif\u001b[0m \u001b[0mits\u001b[0m \u001b[1;33m>\u001b[0m \u001b[0mmaxits\u001b[0m\u001b[1;33m:\u001b[0m\u001b[1;33m\u001b[0m\u001b[0m\n",
        "\u001b[1;32mC:\\Users\\Atsushi\\Anaconda\\lib\\site-packages\\sympy\\mpmath\\matrices\\eigen.pyc\u001b[0m in \u001b[0;36mqr_step\u001b[1;34m(ctx, n0, n1, A, Q, shift)\u001b[0m\n\u001b[0;32m    370\u001b[0m                 \u001b[0my\u001b[0m \u001b[1;33m=\u001b[0m \u001b[0mQ\u001b[0m\u001b[1;33m[\u001b[0m\u001b[0mk\u001b[0m\u001b[1;33m,\u001b[0m\u001b[0mj\u001b[0m\u001b[1;33m+\u001b[0m\u001b[1;36m2\u001b[0m\u001b[1;33m]\u001b[0m\u001b[1;33m\u001b[0m\u001b[0m\n\u001b[0;32m    371\u001b[0m                 \u001b[0mQ\u001b[0m\u001b[1;33m[\u001b[0m\u001b[0mk\u001b[0m\u001b[1;33m,\u001b[0m\u001b[0mj\u001b[0m\u001b[1;33m+\u001b[0m\u001b[1;36m1\u001b[0m\u001b[1;33m]\u001b[0m \u001b[1;33m=\u001b[0m           \u001b[0mc\u001b[0m  \u001b[1;33m*\u001b[0m \u001b[0mx\u001b[0m \u001b[1;33m+\u001b[0m          \u001b[0ms\u001b[0m  \u001b[1;33m*\u001b[0m \u001b[0my\u001b[0m\u001b[1;33m\u001b[0m\u001b[0m\n\u001b[1;32m--> 372\u001b[1;33m                 \u001b[0mQ\u001b[0m\u001b[1;33m[\u001b[0m\u001b[0mk\u001b[0m\u001b[1;33m,\u001b[0m\u001b[0mj\u001b[0m\u001b[1;33m+\u001b[0m\u001b[1;36m2\u001b[0m\u001b[1;33m]\u001b[0m \u001b[1;33m=\u001b[0m \u001b[1;33m-\u001b[0m\u001b[0mctx\u001b[0m\u001b[1;33m.\u001b[0m\u001b[0mconj\u001b[0m\u001b[1;33m(\u001b[0m\u001b[0ms\u001b[0m\u001b[1;33m)\u001b[0m \u001b[1;33m*\u001b[0m \u001b[0mx\u001b[0m \u001b[1;33m+\u001b[0m \u001b[0mctx\u001b[0m\u001b[1;33m.\u001b[0m\u001b[0mconj\u001b[0m\u001b[1;33m(\u001b[0m\u001b[0mc\u001b[0m\u001b[1;33m)\u001b[0m \u001b[1;33m*\u001b[0m \u001b[0my\u001b[0m\u001b[1;33m\u001b[0m\u001b[0m\n\u001b[0m\u001b[0;32m    373\u001b[0m \u001b[1;33m\u001b[0m\u001b[0m\n\u001b[0;32m    374\u001b[0m \u001b[1;33m\u001b[0m\u001b[0m\n",
        "\u001b[1;32mC:\\Users\\Atsushi\\Anaconda\\lib\\site-packages\\sympy\\mpmath\\ctx_mp_python.pyc\u001b[0m in \u001b[0;36m__mul__\u001b[1;34m(self, other)\u001b[0m\n",
        "\u001b[1;32mC:\\Users\\Atsushi\\Anaconda\\lib\\site-packages\\sympy\\mpmath\\libmp\\libmpf.pyc\u001b[0m in \u001b[0;36mpython_mpf_mul\u001b[1;34m(s, t, prec, rnd)\u001b[0m\n\u001b[0;32m    866\u001b[0m         \u001b[0mbc\u001b[0m \u001b[1;33m+=\u001b[0m \u001b[0mint\u001b[0m\u001b[1;33m(\u001b[0m\u001b[0mman\u001b[0m\u001b[1;33m>>\u001b[0m\u001b[0mbc\u001b[0m\u001b[1;33m)\u001b[0m\u001b[1;33m\u001b[0m\u001b[0m\n\u001b[0;32m    867\u001b[0m         \u001b[1;32mif\u001b[0m \u001b[0mprec\u001b[0m\u001b[1;33m:\u001b[0m\u001b[1;33m\u001b[0m\u001b[0m\n\u001b[1;32m--> 868\u001b[1;33m             \u001b[1;32mreturn\u001b[0m \u001b[0mnormalize1\u001b[0m\u001b[1;33m(\u001b[0m\u001b[0msign\u001b[0m\u001b[1;33m,\u001b[0m \u001b[0mman\u001b[0m\u001b[1;33m,\u001b[0m \u001b[0msexp\u001b[0m\u001b[1;33m+\u001b[0m\u001b[0mtexp\u001b[0m\u001b[1;33m,\u001b[0m \u001b[0mbc\u001b[0m\u001b[1;33m,\u001b[0m \u001b[0mprec\u001b[0m\u001b[1;33m,\u001b[0m \u001b[0mrnd\u001b[0m\u001b[1;33m)\u001b[0m\u001b[1;33m\u001b[0m\u001b[0m\n\u001b[0m\u001b[0;32m    869\u001b[0m         \u001b[1;32melse\u001b[0m\u001b[1;33m:\u001b[0m\u001b[1;33m\u001b[0m\u001b[0m\n\u001b[0;32m    870\u001b[0m             \u001b[1;32mreturn\u001b[0m \u001b[1;33m(\u001b[0m\u001b[0msign\u001b[0m\u001b[1;33m,\u001b[0m \u001b[0mman\u001b[0m\u001b[1;33m,\u001b[0m \u001b[0msexp\u001b[0m\u001b[1;33m+\u001b[0m\u001b[0mtexp\u001b[0m\u001b[1;33m,\u001b[0m \u001b[0mbc\u001b[0m\u001b[1;33m)\u001b[0m\u001b[1;33m\u001b[0m\u001b[0m\n",
        "\u001b[1;32mC:\\Users\\Atsushi\\Anaconda\\lib\\site-packages\\sympy\\mpmath\\libmp\\libmpf.pyc\u001b[0m in \u001b[0;36m_normalize1\u001b[1;34m(sign, man, exp, bc, prec, rnd)\u001b[0m\n\u001b[0;32m    228\u001b[0m     \u001b[0mbc\u001b[0m \u001b[1;33m=\u001b[0m \u001b[0mprec\u001b[0m\u001b[1;33m\u001b[0m\u001b[0m\n\u001b[0;32m    229\u001b[0m     \u001b[1;31m# Strip trailing bits\u001b[0m\u001b[1;33m\u001b[0m\u001b[1;33m\u001b[0m\u001b[0m\n\u001b[1;32m--> 230\u001b[1;33m     \u001b[1;32mif\u001b[0m \u001b[1;32mnot\u001b[0m \u001b[0mman\u001b[0m \u001b[1;33m&\u001b[0m \u001b[1;36m1\u001b[0m\u001b[1;33m:\u001b[0m\u001b[1;33m\u001b[0m\u001b[0m\n\u001b[0m\u001b[0;32m    231\u001b[0m         \u001b[0mt\u001b[0m \u001b[1;33m=\u001b[0m \u001b[0mtrailtable\u001b[0m\u001b[1;33m[\u001b[0m\u001b[0mint\u001b[0m\u001b[1;33m(\u001b[0m\u001b[0mman\u001b[0m \u001b[1;33m&\u001b[0m \u001b[1;36m255\u001b[0m\u001b[1;33m)\u001b[0m\u001b[1;33m]\u001b[0m\u001b[1;33m\u001b[0m\u001b[0m\n\u001b[0;32m    232\u001b[0m         \u001b[1;32mif\u001b[0m \u001b[1;32mnot\u001b[0m \u001b[0mt\u001b[0m\u001b[1;33m:\u001b[0m\u001b[1;33m\u001b[0m\u001b[0m\n",
        "\u001b[1;31mKeyboardInterrupt\u001b[0m: "
       ]
      }
     ],
     "prompt_number": 7
    },
    {
     "cell_type": "code",
     "collapsed": false,
     "input": [],
     "language": "python",
     "metadata": {},
     "outputs": []
    }
   ],
   "metadata": {}
  }
 ]
}